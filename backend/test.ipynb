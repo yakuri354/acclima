{
 "cells": [
  {
   "cell_type": "code",
   "execution_count": 1,
   "metadata": {},
   "outputs": [
    {
     "name": "stderr",
     "output_type": "stream",
     "text": [
      "WARNING: An illegal reflective access operation has occurred\n",
      "WARNING: Illegal reflective access by org.codehaus.groovy.vmplugin.v7.Java7$1 (file:/Users/lain/Source/acclima/backend/noisemodelling_dist/lib/groovy-2.5.5.jar) to constructor java.lang.invoke.MethodHandles$Lookup(java.lang.Class,int)\n",
      "WARNING: Please consider reporting this to the maintainers of org.codehaus.groovy.vmplugin.v7.Java7$1\n",
      "WARNING: Use --illegal-access=warn to enable warnings of further illegal reflective access operations\n",
      "WARNING: All illegal access operations will be denied in a future release\n"
     ]
    }
   ],
   "source": [
    "from os import environ\n",
    "\n",
    "environ.setdefault(\"JAVA_HOME\", \"/Library/Java/JavaVirtualMachines/openjdk-11.jdk/Contents/Home/\")\n",
    "\n",
    "import groovy"
   ]
  },
  {
   "cell_type": "code",
   "execution_count": 2,
   "metadata": {},
   "outputs": [],
   "source": [
    "from importlib import reload\n",
    "from geo import *\n",
    "import aiohttp\n",
    "import noise\n",
    "\n",
    "pt = Point(55.771820853060554,37.57251262664795, ANGLE)"
   ]
  },
  {
   "cell_type": "code",
   "execution_count": 3,
   "metadata": {},
   "outputs": [
    {
     "name": "stdout",
     "output_type": "stream",
     "text": [
      "(\n",
      "        way[building](around:1000,55.771820853060554,37.57251262664795);\n",
      "way[highway](around:1000,55.771820853060554,37.57251262664795);\n",
      "    );\n",
      "    out meta;\n",
      "    >;\n",
      "    out meta qt;\n",
      "\n",
      "got  51980\n",
      "got  113662\n",
      "got  165948\n",
      "got  289629\n",
      "got  359104\n",
      "got  422610\n",
      "got  551439\n",
      "got  665162\n",
      "got  726023\n",
      "got  795513\n",
      "got  868808\n",
      "got  1006400\n",
      "got  1087998\n",
      "got  1151371\n",
      "got  1293089\n",
      "got  1435866\n",
      "got  1506245\n",
      "got  1584097\n",
      "got  1746312\n",
      "got  1905782\n",
      "got  1982642\n",
      "got  2151376\n",
      "got  2389717\n",
      "got  2559159\n",
      "got  2642969\n",
      "got  2820460\n",
      "got  2890954\n",
      "got  2968420\n",
      "got  3054639\n",
      "got  3500212\n",
      "got  3572597\n",
      "got  3780587\n",
      "got  3844392\n",
      "got  4083030\n"
     ]
    }
   ],
   "source": [
    "sess = aiohttp.ClientSession()\n",
    "\n",
    "comp = noise.NoiseComputation(pt, sess)\n",
    "\n",
    "print(noise.overpass_query(comp.pt, noise.AREA_RADIUS))\n",
    "\n",
    "await comp.fetch_map()"
   ]
  },
  {
   "cell_type": "code",
   "execution_count": 4,
   "metadata": {},
   "outputs": [
    {
     "name": "stderr",
     "output_type": "stream",
     "text": [
      "[Thread-1] INFO org.noise_planet.noisemodelling - Start : Get Buildings from OSM\n",
      "[Thread-1] INFO org.noise_planet.noisemodelling - inputs {ignoreGround=true, removeTunnels=true, targetSRID=3857, pathFile=/tmp/osm_16925581214162700000.osm, cid=16925581214162700000}\n",
      "[Thread-1] INFO org.noise_planet.noisemodelling - OSM Read done\n",
      "[Thread-1] WARN org.cts.CRSHelper - A grid has been found.\n",
      "[Thread-1] INFO org.noise_planet.noisemodelling - SQL INSERT done\n",
      "[Thread-1] INFO org.noise_planet.noisemodelling - End : Get Buildings from OSM\n",
      "[Thread-1] INFO org.noise_planet.noisemodelling - Result : nodes : 15376<br>\n",
      "ways : 3376<br>\n",
      "relations : 0<br>\n",
      "buildings : 799<br>\n",
      "roads : 2522<br>\n",
      "grounds : 0<br>\n",
      "\n"
     ]
    }
   ],
   "source": [
    "await comp.import_osm()"
   ]
  },
  {
   "cell_type": "code",
   "execution_count": 5,
   "metadata": {},
   "outputs": [
    {
     "data": {
      "text/plain": [
       "3857"
      ]
     },
     "execution_count": 5,
     "metadata": {},
     "output_type": "execute_result"
    }
   ],
   "source": [
    "import db\n",
    "zz = await db.query_all(await comp.db_conn(), \"select * from buildings limit 1\")\n",
    "zz[0]['THE_GEOM'].getSRID()"
   ]
  },
  {
   "cell_type": "code",
   "execution_count": 6,
   "metadata": {},
   "outputs": [
    {
     "name": "stdout",
     "output_type": "stream",
     "text": [
      "ss [{'MIN_DIST': 0.0}]\n",
      "zz [{'PK': 661016854, 'THE_GEOM': <java object 'org.locationtech.jts.geom.Polygon'>, 'HEIGHT': 48.03764724731445}]\n",
      "POLYGON ((4182523.5821102858 7513135.988861043, 4182514.7433427167 7513137.0377580635, 4182513.285057388 7513125.678012989, 4182490.019283812 7513128.686166853, 4182491.3217218537 7513138.8782758275, 4182486.9357339167 7513139.452200814, 4182488.5387345836 7513151.9004463125, 4182492.9247225216 7513151.346310946, 4182493.7596187023 7513157.778241708, 4182515.7897459306 7513154.948191513, 4182517.092183973 7513165.080963437, 4182578.206584418 7513157.224105926, 4182564.5588148464 7513050.9693049025, 4182537.252143755 7513054.472187103, 4182547.8497592784 7513136.919015001, 4182537.4525188385 7513138.264769856, 4182536.9293172327 7513134.267086994, 4182523.5821102858 7513135.988861043))\n",
      "POINT (4182552.973422291 7513125.094799487)\n"
     ]
    }
   ],
   "source": [
    "import db\n",
    "reload(db)\n",
    "reload(noise)\n",
    "bld = await noise.NoiseComputation.get_building(comp)\n",
    "ss = await db.query_all(await comp.db_conn(), f\"select min(ST_Length(ST_ShortestLine(?, the_geom))) as min_dist from {noise.BUILDINGS_TABLE}\", [comp.db_pt])\n",
    "zz = await db.query_all(await comp.db_conn(), f\"select * from {noise.BUILDINGS_TABLE} where ST_Length(ST_ShortestLine(?, the_geom)) <= 0 limit 1\", [comp.db_pt])\n",
    "print(\"ss\", ss)\n",
    "print(\"zz\", zz)\n",
    "print(bld)\n",
    "print(comp.db_pt)"
   ]
  },
  {
   "cell_type": "code",
   "execution_count": 7,
   "metadata": {},
   "outputs": [
    {
     "name": "stdout",
     "output_type": "stream",
     "text": [
      "invoke building_grid: POLYGON ((4182470.110830952 7513128.81729, 4182469.0165734612 7513130.56942599, 4182467.629276716 7513134.231021794, 4182466.9819904948 7513138.092743771, 4182467.0995250773 7513142.006573316, 4182468.702525744 7513154.454818814, 4182469.5801008907 7513158.269921054, 4182471.1840354796 7513161.840990513, 4182473.4528781925 7513165.031209311, 4182476.299703181 7513167.718351051, 4182476.4840073544 7513167.834029016, 4182478.6923797843 7513170.930363643, 4182481.545130678 7513173.615106369, 4182484.866491357 7513175.692266549, 4182488.5290375594 7513177.08215377, 4182492.392255415 7513177.731444901, 4182496.3079322698 7513177.615229835, 4182501.141191903 7513176.994336127, 4182502.0151706985 7513178.221879339, 4182504.868580882 7513180.910793742, 4182508.19175056 7513182.9913594425, 4182511.8569685747 7513184.383619206, 4182515.72337867 7513185.034067758, 4182519.6423926726 7513184.917708019, 4182580.7567931176 7513177.060850508, 4182584.577477923 7513176.182262903, 4182588.1533683357 7513174.5752295125, 4182591.3470648024 7513172.30149878, 4182594.0358531405 7513169.448436244, 4182596.1164196925 7513166.125667612, 4182597.5088210376 7513162.460866517, 4182598.1595557244 7513158.594848809, 4182598.043620008 7513154.676161851, 4182584.3958504363 7513048.421360827, 4182583.517736915 7513044.600688569, 4182581.9111922276 7513041.024708419, 4182579.637942312 7513037.830815077, 4182576.7853289507 7513035.141722875, 4182573.4629539712 7513033.060750901, 4182569.7984681684 7513031.667853323, 4182565.9326667646 7513031.016547427, 4182562.014079842 7513031.131857391, 4182534.7074087504 7513034.634739592, 4182530.8856062223 7513035.512566858, 4182527.3085454176 7513037.119237725, 4182524.113735309 7513039.392988732, 4182521.4239904284 7513042.246412597, 4182519.3427096484 7513045.569818318, 4182517.9499013317 7513049.235447905, 4182517.29910766 7513053.102387634, 4182517.4153463705 7513057.021985042, 4182524.09151841 7513108.96095244, 4182522.1784770284 7513107.764133256, 4182518.5105789085 7513106.372730685, 4182514.641635671 7513105.724073645, 4182510.720499855 7513105.843118368, 4182487.4547262792 7513108.851272231, 4182483.6379185366 7513109.731532137, 4182480.0658820793 7513111.338838703, 4182476.8756302143 7513113.611540154, 4182474.1895320616 7513116.462462033, 4182472.1106188167 7513119.782250968, 4182470.7186317653 7513123.443569159, 4182470.0669636293 7513127.305978703, 4182470.110830952 7513128.81729))\n"
     ]
    },
    {
     "name": "stderr",
     "output_type": "stream",
     "text": [
      "[Thread-1] INFO org.noise_planet.noisemodelling - Start : Receivers grid around buildings\n",
      "[Thread-1] INFO org.noise_planet.noisemodelling - inputs {tableBuilding=BUILDINGS, sourcesTableName=ROADS, fence=POLYGON ((4182470.110830952 7513128.81729, 4182469.0165734612 7513130.56942599, 4182467.629276716 7513134.231021794, 4182466.9819904948 7513138.092743771, 4182467.0995250773 7513142.006573316, 4182468.702525744 7513154.454818814, 4182469.5801008907 7513158.269921054, 4182471.1840354796 7513161.840990513, 4182473.4528781925 7513165.031209311, 4182476.299703181 7513167.718351051, 4182476.4840073544 7513167.834029016, 4182478.6923797843 7513170.930363643, 4182481.545130678 7513173.615106369, 4182484.866491357 7513175.692266549, 4182488.5290375594 7513177.08215377, 4182492.392255415 7513177.731444901, 4182496.3079322698 7513177.615229835, 4182501.141191903 7513176.994336127, 4182502.0151706985 7513178.221879339, 4182504.868580882 7513180.910793742, 4182508.19175056 7513182.9913594425, 4182511.8569685747 7513184.383619206, 4182515.72337867 7513185.034067758, 4182519.6423926726 7513184.917708019, 4182580.7567931176 7513177.060850508, 4182584.577477923 7513176.182262903, 4182588.1533683357 7513174.5752295125, 4182591.3470648024 7513172.30149878, 4182594.0358531405 7513169.448436244, 4182596.1164196925 7513166.125667612, 4182597.5088210376 7513162.460866517, 4182598.1595557244 7513158.594848809, 4182598.043620008 7513154.676161851, 4182584.3958504363 7513048.421360827, 4182583.517736915 7513044.600688569, 4182581.9111922276 7513041.024708419, 4182579.637942312 7513037.830815077, 4182576.7853289507 7513035.141722875, 4182573.4629539712 7513033.060750901, 4182569.7984681684 7513031.667853323, 4182565.9326667646 7513031.016547427, 4182562.014079842 7513031.131857391, 4182534.7074087504 7513034.634739592, 4182530.8856062223 7513035.512566858, 4182527.3085454176 7513037.119237725, 4182524.113735309 7513039.392988732, 4182521.4239904284 7513042.246412597, 4182519.3427096484 7513045.569818318, 4182517.9499013317 7513049.235447905, 4182517.29910766 7513053.102387634, 4182517.4153463705 7513057.021985042, 4182524.09151841 7513108.96095244, 4182522.1784770284 7513107.764133256, 4182518.5105789085 7513106.372730685, 4182514.641635671 7513105.724073645, 4182510.720499855 7513105.843118368, 4182487.4547262792 7513108.851272231, 4182483.6379185366 7513109.731532137, 4182480.0658820793 7513111.338838703, 4182476.8756302143 7513113.611540154, 4182474.1895320616 7513116.462462033, 4182472.1106188167 7513119.782250968, 4182470.7186317653 7513123.443569159, 4182470.0669636293 7513127.305978703, 4182470.110830952 7513128.81729))}\n",
      "[Thread-1] INFO org.noise_planet.noisemodelling - The building table has not a column named POP.\n",
      "[Thread-1] INFO org.noise_planet.noisemodelling - fence POLYGON ((4182470.110830952 7513128.81729, 4182469.0165734612 7513130.56942599, 4182467.629276716 7513134.231021794, 4182466.9819904948 7513138.092743771, 4182467.0995250773 7513142.006573316, 4182468.702525744 7513154.454818814, 4182469.5801008907 7513158.269921054, 4182471.1840354796 7513161.840990513, 4182473.4528781925 7513165.031209311, 4182476.299703181 7513167.718351051, 4182476.4840073544 7513167.834029016, 4182478.6923797843 7513170.930363643, 4182481.545130678 7513173.615106369, 4182484.866491357 7513175.692266549, 4182488.5290375594 7513177.08215377, 4182492.392255415 7513177.731444901, 4182496.3079322698 7513177.615229835, 4182501.141191903 7513176.994336127, 4182502.0151706985 7513178.221879339, 4182504.868580882 7513180.910793742, 4182508.19175056 7513182.9913594425, 4182511.8569685747 7513184.383619206, 4182515.72337867 7513185.034067758, 4182519.6423926726 7513184.917708019, 4182580.7567931176 7513177.060850508, 4182584.577477923 7513176.182262903, 4182588.1533683357 7513174.5752295125, 4182591.3470648024 7513172.30149878, 4182594.0358531405 7513169.448436244, 4182596.1164196925 7513166.125667612, 4182597.5088210376 7513162.460866517, 4182598.1595557244 7513158.594848809, 4182598.043620008 7513154.676161851, 4182584.3958504363 7513048.421360827, 4182583.517736915 7513044.600688569, 4182581.9111922276 7513041.024708419, 4182579.637942312 7513037.830815077, 4182576.7853289507 7513035.141722875, 4182573.4629539712 7513033.060750901, 4182569.7984681684 7513031.667853323, 4182565.9326667646 7513031.016547427, 4182562.014079842 7513031.131857391, 4182534.7074087504 7513034.634739592, 4182530.8856062223 7513035.512566858, 4182527.3085454176 7513037.119237725, 4182524.113735309 7513039.392988732, 4182521.4239904284 7513042.246412597, 4182519.3427096484 7513045.569818318, 4182517.9499013317 7513049.235447905, 4182517.29910766 7513053.102387634, 4182517.4153463705 7513057.021985042, 4182524.09151841 7513108.96095244, 4182522.1784770284 7513107.764133256, 4182518.5105789085 7513106.372730685, 4182514.641635671 7513105.724073645, 4182510.720499855 7513105.843118368, 4182487.4547262792 7513108.851272231, 4182483.6379185366 7513109.731532137, 4182480.0658820793 7513111.338838703, 4182476.8756302143 7513113.611540154, 4182474.1895320616 7513116.462462033, 4182472.1106188167 7513119.782250968, 4182470.7186317653 7513123.443569159, 4182470.0669636293 7513127.305978703, 4182470.110830952 7513128.81729))\n",
      "[Thread-1] INFO org.noise_planet.noisemodelling - create line of receivers\n",
      "[Thread-1] INFO org.noise_planet.noisemodelling - list buildings that will remove receivers (if height is superior than receiver height)\n",
      "[Thread-1] INFO org.noise_planet.noisemodelling - truncate receiver lines\n",
      "[Thread-1] INFO org.noise_planet.noisemodelling - Add primary key\n",
      "[Thread-1] INFO org.noise_planet.noisemodelling - union of truncated receivers and non tructated\n",
      "[Thread-1] INFO org.noise_planet.noisemodelling - Add primary key\n",
      "[Thread-1] INFO org.noise_planet.noisemodelling - Collect all lines and convert into points using custom method\n",
      "[Thread-1] INFO org.noise_planet.noisemodelling - Split line to points\n",
      "[Thread-1] INFO org.noise_planet.noisemodelling.pathfinder.RootProgressVisitor - 100.00 %\n",
      "[Thread-1] INFO org.noise_planet.noisemodelling - create RECEIVERS table...\n",
      "[Thread-1] INFO org.noise_planet.noisemodelling - Add primary key\n",
      "[Thread-1] INFO org.noise_planet.noisemodelling - Delete receivers near sources...\n",
      "[Thread-1] INFO org.noise_planet.noisemodelling - Result : Process done. Table of receivers RECEIVERS created !\n",
      "[Thread-1] INFO org.noise_planet.noisemodelling - End : Receivers grid around buildings\n"
     ]
    }
   ],
   "source": [
    "await noise.NoiseComputation.create_receivers_for_building(comp)"
   ]
  },
  {
   "cell_type": "code",
   "execution_count": 8,
   "metadata": {},
   "outputs": [
    {
     "name": "stdout",
     "output_type": "stream",
     "text": [
      "[{'PK': 1, 'THE_GEOM': <java object 'org.locationtech.jts.geom.Point'>, 'BUILD_PK': 661016854}, {'PK': 2, 'THE_GEOM': <java object 'org.locationtech.jts.geom.Point'>, 'BUILD_PK': 661016854}, {'PK': 3, 'THE_GEOM': <java object 'org.locationtech.jts.geom.Point'>, 'BUILD_PK': 661016854}, {'PK': 4, 'THE_GEOM': <java object 'org.locationtech.jts.geom.Point'>, 'BUILD_PK': 661016854}, {'PK': 5, 'THE_GEOM': <java object 'org.locationtech.jts.geom.Point'>, 'BUILD_PK': 661016854}, {'PK': 6, 'THE_GEOM': <java object 'org.locationtech.jts.geom.Point'>, 'BUILD_PK': 661016854}, {'PK': 7, 'THE_GEOM': <java object 'org.locationtech.jts.geom.Point'>, 'BUILD_PK': 661016854}, {'PK': 8, 'THE_GEOM': <java object 'org.locationtech.jts.geom.Point'>, 'BUILD_PK': 661016854}, {'PK': 9, 'THE_GEOM': <java object 'org.locationtech.jts.geom.Point'>, 'BUILD_PK': 661016854}, {'PK': 10, 'THE_GEOM': <java object 'org.locationtech.jts.geom.Point'>, 'BUILD_PK': 661016854}, {'PK': 11, 'THE_GEOM': <java object 'org.locationtech.jts.geom.Point'>, 'BUILD_PK': 661016854}, {'PK': 12, 'THE_GEOM': <java object 'org.locationtech.jts.geom.Point'>, 'BUILD_PK': 661016854}, {'PK': 13, 'THE_GEOM': <java object 'org.locationtech.jts.geom.Point'>, 'BUILD_PK': 661016854}, {'PK': 14, 'THE_GEOM': <java object 'org.locationtech.jts.geom.Point'>, 'BUILD_PK': 661016854}, {'PK': 15, 'THE_GEOM': <java object 'org.locationtech.jts.geom.Point'>, 'BUILD_PK': 661016854}, {'PK': 16, 'THE_GEOM': <java object 'org.locationtech.jts.geom.Point'>, 'BUILD_PK': 661016854}, {'PK': 17, 'THE_GEOM': <java object 'org.locationtech.jts.geom.Point'>, 'BUILD_PK': 661016854}, {'PK': 18, 'THE_GEOM': <java object 'org.locationtech.jts.geom.Point'>, 'BUILD_PK': 661016854}, {'PK': 19, 'THE_GEOM': <java object 'org.locationtech.jts.geom.Point'>, 'BUILD_PK': 661016854}, {'PK': 20, 'THE_GEOM': <java object 'org.locationtech.jts.geom.Point'>, 'BUILD_PK': 661016854}]\n",
      "[{'COUNT(*)': 43}]\n",
      "POINT (4182518.4162358926 7513134.587862287)\n",
      "POINT (4182515.462037302 7513126.928801905)\n",
      "POINT (4182507.5128065334 7513124.407689598)\n",
      "POINT (4182497.6853923774 7513125.678327506)\n",
      "POINT (4182488.588921034 7513128.2228921745)\n",
      "POINT (4182488.36862828 7513137.247650406)\n",
      "POINT (4182485.6388391755 7513145.040471537)\n",
      "POINT (4182488.718253412 7513153.829603015)\n",
      "POINT (4182494.086178458 7513159.752726095)\n",
      "POINT (4182503.9146298636 7513158.490136436)\n",
      "POINT (4182513.7430812693 7513157.227546778)\n",
      "POINT (4182516.1947315913 7513166.174712019)\n",
      "POINT (4182525.7313433765 7513165.9867743915)\n",
      "POINT (4182535.559674115 7513164.72324577)\n",
      "POINT (4182545.3880048534 7513163.459717148)\n",
      "POINT (4182555.216335592 7513162.196188525)\n",
      "POINT (4182565.0446663303 7513160.932659904)\n",
      "POINT (4182574.872997069 7513159.669131281)\n",
      "POINT (4182579.7491357354 7513153.534717799)\n",
      "POINT (4182578.486729146 7513143.706242878)\n"
     ]
    }
   ],
   "source": [
    "r = await db.query_all(await comp.db_conn(), \"select * from receivers limit 20\")\n",
    "sz = await db.query_all(await comp.db_conn(), \"select count(*) from receivers\")\n",
    "print(r)\n",
    "print(sz)\n",
    "\n",
    "print(\"\\n\".join(str(x['THE_GEOM'].toString()) for x in r))"
   ]
  },
  {
   "cell_type": "code",
   "execution_count": 9,
   "metadata": {},
   "outputs": [
    {
     "name": "stderr",
     "output_type": "stream",
     "text": [
      "[Thread-1] INFO org.noise_planet.noisemodelling - Start : Road Emission from DEN\n",
      "[Thread-1] INFO org.noise_planet.noisemodelling - inputs {tableRoads=ROADS}\n",
      "[Thread-1] INFO org.noise_planet.noisemodelling - The table Roads has 2522 road segments.\n",
      "[Thread-1] INFO org.noise_planet.noisemodelling - \n",
      "Result : Calculation Done ! The table LW_ROADS has been created.\n",
      "[Thread-1] INFO org.noise_planet.noisemodelling - End : LW_ROADS from Emission\n"
     ]
    }
   ],
   "source": [
    "await comp.compute_road_emision()"
   ]
  },
  {
   "cell_type": "code",
   "execution_count": 10,
   "metadata": {},
   "outputs": [
    {
     "name": "stderr",
     "output_type": "stream",
     "text": [
      "[Thread-1] INFO org.noise_planet.noisemodelling - Start : LDEN from Emission\n",
      "[Thread-1] INFO org.noise_planet.noisemodelling - inputs {tableReceivers=RECEIVERS, tableBuilding=BUILDINGS, tableSources=LW_ROADS}\n",
      "[Thread-1] INFO org.noise_planet.noisemodelling - Start calculation... \n",
      "[Thread-1] INFO org.noise_planet.noisemodelling.jdbc.PointNoiseMap - Collect all receivers in order to localize populated cells\n",
      "[Thread-1] INFO org.noise_planet.noisemodelling - Compute domain is POLYGON ((4182224.9125 7513111.5125, 4182224.9125 7513412.4, 4182500.7 7513412.4, 4182500.7 7513111.5125, 4182224.9125 7513111.5125))\n",
      "[Thread-1] INFO org.noise_planet.noisemodelling - Compute... 0.000 % (6 receivers in this cell)\n",
      "[Thread-1] INFO org.noise_planet.noisemodelling.jdbc.PointNoiseMap - Begin processing of cell 120 / 256\n",
      "[Thread-1] INFO org.noise_planet.noisemodelling.jdbc.PointNoiseMap - This computation area contains 6 receivers 77 sound sources and 31 buildings\n",
      "[pool-1-thread-3] INFO org.noise_planet.noisemodelling.pathfinder.RootProgressVisitor - 5.56 %\n",
      "[Thread-1] INFO org.noise_planet.noisemodelling - Compute domain is POLYGON ((4182500.7 7512810.625, 4182500.7 7513111.5125, 4182776.4875000003 7513111.5125, 4182776.4875000003 7512810.625, 4182500.7 7512810.625))\n",
      "[Thread-1] INFO org.noise_planet.noisemodelling - Compute... 33.333 % (15 receivers in this cell)\n",
      "[Thread-1] INFO org.noise_planet.noisemodelling.jdbc.PointNoiseMap - Begin processing of cell 135 / 256\n",
      "[Thread-1] INFO org.noise_planet.noisemodelling.jdbc.PointNoiseMap - This computation area contains 15 receivers 118 sound sources and 40 buildings\n",
      "[Thread-1] INFO org.noise_planet.noisemodelling - Compute domain is POLYGON ((4182500.7 7513111.5125, 4182500.7 7513412.4, 4182776.4875000003 7513412.4, 4182776.4875000003 7513111.5125, 4182500.7 7513111.5125))\n",
      "[Thread-1] INFO org.noise_planet.noisemodelling - Compute... 66.667 % (22 receivers in this cell)\n",
      "[Thread-1] INFO org.noise_planet.noisemodelling.jdbc.PointNoiseMap - Begin processing of cell 136 / 256\n",
      "[Thread-1] INFO org.noise_planet.noisemodelling.jdbc.PointNoiseMap - This computation area contains 22 receivers 72 sound sources and 46 buildings\n",
      "[Thread-3] INFO org.noise_planet.noisemodelling.jdbc.LDENPointNoiseMapFactory$TableWriter - Write done, apply primary keys\n",
      "[Thread-1] INFO org.noise_planet.noisemodelling - create table LDAY_GEOM\n",
      "[Thread-1] INFO org.noise_planet.noisemodelling - Add primary key on LDAY_GEOM\n",
      "[Thread-1] INFO org.noise_planet.noisemodelling - create table LEVENING_GEOM\n",
      "[Thread-1] INFO org.noise_planet.noisemodelling - Add primary key on LEVENING_GEOM\n",
      "[Thread-1] INFO org.noise_planet.noisemodelling - create table LNIGHT_GEOM\n",
      "[Thread-1] INFO org.noise_planet.noisemodelling - Add primary key on LNIGHT_GEOM\n",
      "[Thread-1] INFO org.noise_planet.noisemodelling - create table LDEN_GEOM\n",
      "[Thread-1] INFO org.noise_planet.noisemodelling - Add primary key on LDEN_GEOM\n",
      "[Thread-1] INFO org.noise_planet.noisemodelling - Result : Calculation Done !  LDAY_GEOM LEVENING_GEOM LNIGHT_GEOM LDEN_GEOM table(s) have been created.\n",
      "[Thread-1] INFO org.noise_planet.noisemodelling - End : LDEN from Emission\n"
     ]
    }
   ],
   "source": [
    "await comp.compute_propagation()"
   ]
  },
  {
   "cell_type": "code",
   "execution_count": 11,
   "metadata": {},
   "outputs": [
    {
     "data": {
      "text/plain": [
       "NoiseData(laeq_day=Decimal('58.84'), laeq_evening=Decimal('57.72'), laeq_night=Decimal('50.52'), laeq_den=Decimal('60.37'))"
      ]
     },
     "execution_count": 11,
     "metadata": {},
     "output_type": "execute_result"
    }
   ],
   "source": [
    "await comp.get_result()"
   ]
  }
 ],
 "metadata": {
  "kernelspec": {
   "display_name": "backend-qQTOe4Eu-py3.11",
   "language": "python",
   "name": "python3"
  },
  "language_info": {
   "codemirror_mode": {
    "name": "ipython",
    "version": 3
   },
   "file_extension": ".py",
   "mimetype": "text/x-python",
   "name": "python",
   "nbconvert_exporter": "python",
   "pygments_lexer": "ipython3",
   "version": "3.11.4"
  },
  "orig_nbformat": 4
 },
 "nbformat": 4,
 "nbformat_minor": 2
}
